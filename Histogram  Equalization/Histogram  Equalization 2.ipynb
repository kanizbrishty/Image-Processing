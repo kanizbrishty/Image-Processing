{
 "cells": [
  {
   "cell_type": "code",
   "execution_count": 1,
   "id": "patient-behavior",
   "metadata": {},
   "outputs": [],
   "source": [
    "import numpy as np\n",
    "from PIL import Image\n",
    "import matplotlib.pyplot as plt"
   ]
  },
  {
   "cell_type": "code",
   "execution_count": 2,
   "id": "center-diving",
   "metadata": {},
   "outputs": [],
   "source": [
    "for i in range(0,6):\n",
    "    img_filename = 'preprocess '+str(i)+'.png'\n",
    "    save_filename = str(i)+'.png' \n",
    "    img = Image.open(img_filename)\n",
    "    imgray = img.convert(mode='L')\n",
    "    img_array = np.asarray(imgray)\n",
    "    histogram_array = np.bincount(img_array.flatten(), minlength=256)\n",
    "    num_pixels = np.sum(histogram_array)\n",
    "    histogram_array = histogram_array/num_pixels\n",
    "    chistogram_array = np.cumsum(histogram_array)\n",
    "    transform_map = np.floor(255 * chistogram_array).astype(np.uint8)\n",
    "    img_list = list(img_array.flatten())\n",
    "    eq_img_list = [transform_map[p] for p in img_list]\n",
    "    eq_img_array = np.reshape(np.asarray(eq_img_list), img_array.shape)\n",
    "    eq_img = Image.fromarray(eq_img_array, mode='L')\n",
    "    eq_img.save(save_filename)"
   ]
  },
  {
   "cell_type": "code",
   "execution_count": null,
   "id": "parliamentary-edition",
   "metadata": {},
   "outputs": [],
   "source": []
  }
 ],
 "metadata": {
  "kernelspec": {
   "display_name": "Python 3",
   "language": "python",
   "name": "python3"
  },
  "language_info": {
   "codemirror_mode": {
    "name": "ipython",
    "version": 3
   },
   "file_extension": ".py",
   "mimetype": "text/x-python",
   "name": "python",
   "nbconvert_exporter": "python",
   "pygments_lexer": "ipython3",
   "version": "3.9.1"
  }
 },
 "nbformat": 4,
 "nbformat_minor": 5
}
